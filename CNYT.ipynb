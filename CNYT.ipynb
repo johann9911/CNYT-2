{
 "cells": [
  {
   "cell_type": "markdown",
   "metadata": {},
   "source": [
    "# Librería Computación Cuántica: Números Complejos\n",
    "\n",
    "### Calculadora de Números Complejos\n"
   ]
  },
  {
   "cell_type": "markdown",
   "metadata": {},
   "source": [
    "Cuando los números **imaginarios** se combinan con los números **reales** obtenemos lo que se conoce como **numeros complejos**; de esta forma, los números complejos vienen a completar a los números reales y nos permiten realizar todo tipo de **operaciones algebraicas**."
   ]
  },
  {
   "cell_type": "markdown",
   "metadata": {},
   "source": [
    "### CONTENIDO:\n",
    "* [1. Operaciones con  ℂ](#Operaciones-con-ℂ)\n",
    "    * [1.1 Suma](#Suma)\n",
    "    * [1.2 Resta](#Resta)\n",
    "    * [1.3 Producto](#Producto)\n",
    "    * [1.4 División](#División)\n",
    "    * [1.5 Polar a Cartesiano](#Polar-a-Cartesiano)\n",
    "    * [1.6 Cartesiano a Polar](#Cartesiano-a-Polar)\n",
    "    * [1.7 Conjugado](#Conjugado)\n",
    "    * [1.8 Módulo](#Módulo)\n",
    "    * [1.9 Retornar la Fase de un ℂ](#Retornar-la-Fase-de-un-ℂ) \n",
    "* [2. Operaciones con  Vectores ℂ](#Operaciones-con-Vectores-ℂ)\n",
    "    * [2.1 Suma de vectores](#Suma-de-vectores)\n",
    "    * [2.2 Inversa de vectores](#Inversa-de-vectores)\n",
    "    * [2.3 Multiplicación escalar](#Multiplicación-escalar)\n",
    "    * [2.4 Norma](#Norma)\n",
    "    * [2.5 Distancia](#Distancia)\n",
    "    * [2.6 Producto Interno](#Producto-Interno)\n",
    "* [3. Operaciones con Matrices ℂ](#Operaciones-con-Matrices-ℂ)\n",
    "    * [3.1 Suma de matrices](#Suma-de-matrices)\n",
    "    * [3.2 Inversa de matrices](#Inversa-de-matrices)\n",
    "    * [3.3 Multiplicación escalar de matrices](#Multiplicación-escalar-de-matrices)\n",
    "    * [3.4 Traspuesta](#Traspuesta)\n",
    "    * [3.5 Conjugada](#Conjugada)\n",
    "    * [3.6 Adjunta o Daga](#Adjunta-o-Daga)\n",
    "    * [3.7 Acción de una matriz sobre un vector](#Acción-de-una-matriz-sobre-un-vector)\n",
    "    * [3.8 Producto entre matrices](#Producto-entre-matrices)\n",
    "    * [3.9 Es Unitaria](#Es-Unitaria)\n",
    "    * [3.10 Es Hermitiana](#Es-Hermitiana)"
   ]
  },
  {
   "cell_type": "markdown",
   "metadata": {},
   "source": [
    "# Operaciones con  ℂ <a class=\"anchor\" id=\"Operaciones-con-ℂ\"></a>\n",
    "\n",
    "Las operaciones que podemos realizar con **numeros complejos** son las siguientes:\n",
    "\n",
    "Tomamos dos **numeros complejos** de la siguiente forma:"
   ]
  },
  {
   "cell_type": "markdown",
   "metadata": {},
   "source": [
    "$$z = a + bi$$"
   ]
  },
  {
   "cell_type": "markdown",
   "metadata": {},
   "source": [
    "$$w = c + di$$"
   ]
  },
  {
   "cell_type": "markdown",
   "metadata": {},
   "source": [
    "Donde\n",
    "- En el primer **numero complejo** $z$ ∈ ℂ, tenemos $a$ ∈ ℝ, como parte real  y  $b$ ∈ ℝ, como parte imaginaria. \n",
    "- Y el en segundo $w$ ∈ ℂ, tenemos $c$ ∈ ℝ, como parte rea y  $d$ ∈ ℝ, como parte imaginaria. "
   ]
  },
  {
   "cell_type": "markdown",
   "metadata": {},
   "source": [
    "Utilizamos la librería math para realizar operaciones como (obtener raiz y usar funciones trigonométricas). Adicionalmente, denotamos dos variables, **gradosPC & gradosCP**"
   ]
  },
  {
   "cell_type": "code",
   "execution_count": 1,
   "metadata": {},
   "outputs": [],
   "source": [
    "import math\n",
    "\n",
    "gradosPC = math.pi / 180 #Conversión de grados a radianes\n",
    "gradosCP = 180 / math.pi  # Conversión de radianes a grados"
   ]
  },
  {
   "cell_type": "markdown",
   "metadata": {},
   "source": [
    "# Suma <a class=\"anchor\" id=\"Suma\"></a>\n",
    "Para sumar dos **numeros complejos** simplemente sumamos cada elemento en forma separada."
   ]
  },
  {
   "cell_type": "markdown",
   "metadata": {},
   "source": [
    "$$(a+bi)+(c+di)=(a+c)+(b+d)i$$"
   ]
  },
  {
   "cell_type": "markdown",
   "metadata": {},
   "source": [
    "Así, por ejemplo"
   ]
  },
  {
   "cell_type": "markdown",
   "metadata": {},
   "source": [
    "$$(2+2i)+(1+5i)=3+7i$$"
   ]
  },
  {
   "cell_type": "code",
   "execution_count": 2,
   "metadata": {},
   "outputs": [],
   "source": [
    "def sumaC(a,b,c,d):\n",
    "    z1 = a + c\n",
    "    z2 = b + d\n",
    "    return z1, z2  #Retorna z1 como real y z2 como imaginario"
   ]
  },
  {
   "cell_type": "markdown",
   "metadata": {},
   "source": [
    "# Resta <a class=\"anchor\" id=\"Resta\"></a>\n",
    "\n",
    "La resta de dos **numeros complejos**, funciona de forma similar a la suma."
   ]
  },
  {
   "cell_type": "markdown",
   "metadata": {},
   "source": [
    "$$(a+bi)-(c+di)=(a-c)+(b-d)i$$"
   ]
  },
  {
   "cell_type": "markdown",
   "metadata": {},
   "source": [
    "Así, por ejemplo"
   ]
  },
  {
   "cell_type": "markdown",
   "metadata": {},
   "source": [
    "$$(2+2i)-(1+5i)=1-3i$$"
   ]
  },
  {
   "cell_type": "code",
   "execution_count": 3,
   "metadata": {},
   "outputs": [],
   "source": [
    "def restaC(a,b,c,d):\n",
    "    z1 = a - c\n",
    "    z2 = b - d\n",
    "    return z1, z2  #Retorna z1 como real y z2 como imaginario"
   ]
  },
  {
   "cell_type": "markdown",
   "metadata": {},
   "source": [
    "# Producto <a class=\"anchor\" id=\"Producto\"></a>\n",
    "\n",
    "Para multiplicar dos **numeros complejos**, debemos realizar su $multiplicacion$ $binomial$. Sin embargo, para fines prácticos empleamos la siguiente fórmula:"
   ]
  },
  {
   "cell_type": "markdown",
   "metadata": {},
   "source": [
    "$$(a+bi)(c+di)=(ac-bd)+(ad+bc)i$$"
   ]
  },
  {
   "cell_type": "markdown",
   "metadata": {},
   "source": [
    "Así, por ejemplo"
   ]
  },
  {
   "cell_type": "markdown",
   "metadata": {},
   "source": [
    "$$(3+2i)(2+6i)=(3x2-2x6)+(3x6+2x2)i= -6+22i$$"
   ]
  },
  {
   "cell_type": "code",
   "execution_count": 4,
   "metadata": {},
   "outputs": [],
   "source": [
    "def productoC(a,b,c,d):\n",
    "    z1 = (a*c - b*d)\n",
    "    z2 = (a*d + b*c)\n",
    "    return z1, z2  #Retorna z1 como real y z2 como imaginario"
   ]
  },
  {
   "cell_type": "markdown",
   "metadata": {},
   "source": [
    "# División <a class=\"anchor\" id=\"División\"></a>\n",
    "Para dividir dos **numeros complejos**, debemos utilizar el **conjugado**; ya que para realizar la división debemos multiplicar tanto el divisor como el dividendo por el conjugado del divisor. Sin embargo, para fines prácticos empleamos la siguiente fórmula"
   ]
  },
  {
   "cell_type": "markdown",
   "metadata": {},
   "source": [
    "$$\\frac{(a+bi)}{(c+di)} = \\frac{(ac+bd)+(bc-ad)}{(c^2+d^2)} = \\frac{(ac+bd)}{(c^2+d^2)}+\\frac{(bc-ad)i}{(c^2+d^2)}$$"
   ]
  },
  {
   "cell_type": "code",
   "execution_count": 5,
   "metadata": {},
   "outputs": [],
   "source": [
    "def divisionC(a,b,c,d):\n",
    "    if c == 0 and d == 0:  #Controla la división por 0\n",
    "        raise ValueError('Can not divide by zero!')\n",
    "    else:\n",
    "        z1 = (a * c + b * d)\n",
    "        z2 = (c * b - a * d)\n",
    "        z3 = (c ** 2 + d ** 2)\n",
    "    return z1/z3, z2/z3  #Retorna z1/z3 como real y z2/z3 como imaginario"
   ]
  },
  {
   "cell_type": "markdown",
   "metadata": {},
   "source": [
    "# Polar a Cartesiano <a class=\"anchor\" id=\"Polar-a-Cartesiano\"></a>\n",
    "\n",
    "Para pasar de la forma **polar** a la **cartesiana**, utilizamos la forma trigonométrica $($calculando el $seno$ y el $coseno$ del ángulo$)$. \n",
    "\n",
    "Con el ángulo $\\theta$ en grados (°).\n",
    "\n",
    "$$x = rcos(\\theta)$$"
   ]
  },
  {
   "cell_type": "markdown",
   "metadata": {},
   "source": [
    "$$y = rsen(\\theta)$$\n"
   ]
  },
  {
   "cell_type": "code",
   "execution_count": 6,
   "metadata": {},
   "outputs": [],
   "source": [
    "def polarCartesianoC(r, θ):\n",
    "    if r == 0: #Si r es 0, el resultado es z = 0 + 0i\n",
    "        return 0\n",
    "    else:\n",
    "        if θ == 0: #Si el θ es 0, la coordenada en y es 0\n",
    "            x = r * math.cos(θ * gradosPC) #Halla la coordenada en x\n",
    "            y = 0\n",
    "        else:\n",
    "            x = r * math.cos(θ * gradosPC)\n",
    "            y = r * math.sin(θ * gradosPC) #Halla la coordenada en y\n",
    "        return x, y"
   ]
  },
  {
   "cell_type": "markdown",
   "metadata": {},
   "source": [
    "# Cartesiano a Polar <a class=\"anchor\" id=\"Cartesiano-a-Polar\"></a>\n",
    "\n",
    "Para pasar de la forma **cartesiana** a la forma **polar**, utilizamos la forma trigonométrica $($calculando el módulo $r$ con el $teorema$ $de$ $pitagoras$ y el ángulo $\\theta$ con funcion $arco$ $tangente$)\n"
   ]
  },
  {
   "cell_type": "markdown",
   "metadata": {},
   "source": [
    "$$r = \\sqrt{x^2 + y^2}$$\n",
    "                                                \n",
    "$$\\theta = arctan\\frac{y}{x}$$  $$x!=0$$"
   ]
  },
  {
   "cell_type": "markdown",
   "metadata": {},
   "source": [
    "Con $\\theta$ en grados. Se tiene en cuenta el cuadrante en que se encuentra ubicado el vector usando $k$."
   ]
  },
  {
   "cell_type": "code",
   "execution_count": 7,
   "metadata": {},
   "outputs": [],
   "source": [
    "def cartesianoPolarC(x, y):\n",
    "    r = math.sqrt((x ** 2 + y ** 2)) #Halla el módulo\n",
    "    if x == 0 and y == 0:\n",
    "        θ = 0\n",
    "    elif x == 0 and y > 0:\n",
    "        θ = 90\n",
    "    elif x ==0 and y < 0:\n",
    "        θ = -90\n",
    "    else:\n",
    "        arcT = math.atan((y / x)) * gradosCP #Halla el ángulo sin tener en cuenta el cuadrante\n",
    "    #Determina k\n",
    "        if x > 0:\n",
    "            k = 0\n",
    "        else:\n",
    "            k = 1\n",
    "        θ = arcT + 180 * k #Halla el ángulo teniendo en cuenta el cuadrante\n",
    "    return r, θ"
   ]
  },
  {
   "cell_type": "markdown",
   "metadata": {},
   "source": [
    "# Conjugado <a class=\"anchor\" id=\"Conjugado\"></a>\n",
    "\n",
    "El conjugado de un **numero complejo** se obtiene cambiando el $signo$ de su componente **imaginario**. Por lo tanto, el conjugado de un numero complejo es"
   ]
  },
  {
   "cell_type": "markdown",
   "metadata": {},
   "source": [
    "$$\\bar z = a + bi$$"
   ]
  },
  {
   "cell_type": "markdown",
   "metadata": {},
   "source": [
    "Para expresar que estamos buscando el **conjugado**, escribimos una línea sobre el **numero complejo**. Así, por ejemplo"
   ]
  },
  {
   "cell_type": "markdown",
   "metadata": {},
   "source": [
    "$$\\bar 2+\\bar3i = 2 - 3i$$"
   ]
  },
  {
   "cell_type": "code",
   "execution_count": 8,
   "metadata": {},
   "outputs": [],
   "source": [
    "def conjugadoC(a,b):\n",
    "    if b < 0: b = abs(b)\n",
    "    else: b = -b\n",
    "    return a, b #Retorna a y el conjugado del imaginario (b)"
   ]
  },
  {
   "cell_type": "markdown",
   "metadata": {},
   "source": [
    "# Módulo <a class=\"anchor\" id=\"Módulo\"></a>\n",
    "\n",
    "Dado un **numero complejo** en su **forma cartesiana**"
   ]
  },
  {
   "cell_type": "markdown",
   "metadata": {},
   "source": [
    "$$ z = a + bi$$\n",
    "El módulo $z$ se define como"
   ]
  },
  {
   "cell_type": "markdown",
   "metadata": {},
   "source": [
    "$$|z| = \\sqrt{a^2 + b^2}$$"
   ]
  },
  {
   "cell_type": "code",
   "execution_count": 9,
   "metadata": {},
   "outputs": [],
   "source": [
    "def moduloC(a, b):\n",
    "    z = math.sqrt(a**2 + b**2)\n",
    "    return round(z, 2) #Retorna el módulo"
   ]
  },
  {
   "cell_type": "markdown",
   "metadata": {},
   "source": [
    "# Retornar la Fase de un ℂ <a class=\"anchor\" id=\"Retornar-la-Fase-de-un-ℂ\"></a>"
   ]
  },
  {
   "cell_type": "markdown",
   "metadata": {},
   "source": [
    "Se define la **fase** o **argumento** como\n",
    "\n",
    "$$arg(z) = arctan\\frac{b}{a}$$"
   ]
  },
  {
   "cell_type": "markdown",
   "metadata": {},
   "source": [
    "$$a!=0$$"
   ]
  },
  {
   "cell_type": "markdown",
   "metadata": {},
   "source": [
    "Observa que por ejemplo, la función $arcotangente$ proporciona el mismo ángulo para $z = a-bi$ y para $w = -a+bi$. Sin embargo, $z$ y $w$ están en **cuadrantes** distintos, así que su **fase** es distinta.\n",
    "\n",
    "Para solucionar esto empleamos $k$:\n",
    "\n",
    "- Si el **complejo** está en el segundo cuadrante $(a<0, b>0)$, hay que sumar $180$° al ángulo obtenido.\n",
    "\n",
    "- Si el **complejo** está en el tercer cuadrante $(a<0, b<0)$, hay que restar $180$° al ángulo obtenido."
   ]
  },
  {
   "cell_type": "code",
   "execution_count": 10,
   "metadata": {},
   "outputs": [],
   "source": [
    "def faseC(x, y):\n",
    "    if x == 0 and y ==0: #Si x, y son 0, la fase es 0°\n",
    "        θ = 0\n",
    "    elif x == 0 and y > 0: #Si x es 0 y y es mayor que 0, la fase es 90°\n",
    "        θ = 90\n",
    "    elif x ==0 and y < 0:  #Si x es 0 y y es menor que 0, la fase es negativa, -90°\n",
    "        θ = -90\n",
    "    else:\n",
    "        arcT = math.atan((y / x)) * gradosCP\n",
    "\n",
    "        # Determina k\n",
    "        if x > 0:\n",
    "            k = 0\n",
    "        else:\n",
    "            k = 1\n",
    "\n",
    "        θ = arcT + 180 * k  #Calcula la fase\n",
    "    return θ"
   ]
  },
  {
   "cell_type": "markdown",
   "metadata": {},
   "source": [
    "# Operaciones con Vectores ℂ <a class=\"anchor\" id=\"Operaciones-con-Vectores-ℂ\"></a>\n",
    "\n",
    "Las operaciones que podemos realizar con **vectores complejos** son las siguientes:\n",
    "\n",
    "Tomamos dos **vectores** de la siguiente forma:"
   ]
  },
  {
   "cell_type": "markdown",
   "metadata": {},
   "source": [
    "$$ \\vec{u} = \\begin{pmatrix} a+bi \\\\ c+di \\end{pmatrix} \\qquad \\vec{v} = \\begin{pmatrix} a_2+b_2i \\\\ c_2+d_2i \\end{pmatrix}$$"
   ]
  },
  {
   "cell_type": "markdown",
   "metadata": {},
   "source": [
    "Donde, $\\vec{u}$ y $\\vec{v}$ son vectores. Y sus componentes como\n"
   ]
  },
  {
   "cell_type": "markdown",
   "metadata": {},
   "source": [
    "$$z = a + bi$$"
   ]
  },
  {
   "cell_type": "markdown",
   "metadata": {},
   "source": [
    "Donde $z$ es un **numero complejo** ∈ ℂ, con $a$ ∈ ℝ, como parte real y  $b$ ∈ ℝ como parte imaginaria."
   ]
  },
  {
   "cell_type": "markdown",
   "metadata": {},
   "source": [
    "Utilizamos **res** para contener los resultados."
   ]
  },
  {
   "cell_type": "markdown",
   "metadata": {},
   "source": [
    "# Suma de vectores\n",
    "Para sumar vectores simplemente sumamos cada **numero complejo** con su respectiva componente."
   ]
  },
  {
   "cell_type": "markdown",
   "metadata": {},
   "source": [
    "$$\\begin{pmatrix} a+bi \\\\ c+di \\end{pmatrix} + \\begin{pmatrix} a_2+b_2i \\\\ c_2+d_2i \\end{pmatrix} = \\begin{pmatrix} (a + a_2) + (bi + b_2i) \\\\ (c + c_2) + (d + d_2i)\\end{pmatrix}$$"
   ]
  },
  {
   "cell_type": "code",
   "execution_count": 11,
   "metadata": {},
   "outputs": [],
   "source": [
    "def sumaV(u,v):\n",
    "    res = [] #Contenedor de la respuesta\n",
    "    if len(u) != len(v):\n",
    "        raise ValueError('u y v deben tener el mismo tamano')\n",
    "    else:\n",
    "        for fil in range(len(u)):\n",
    "           res.append(sumaC(u[fil][0],u[fil][1], v[fil][0], v[fil][1]))\n",
    "    return res"
   ]
  },
  {
   "cell_type": "markdown",
   "metadata": {},
   "source": [
    "# Inversa de vectores <a class=\"anchor\" id=\"Inversa-de-vectores\"></a>\n",
    "Para hallar la inversa de un vector, encontramos un vector que cumpla la siguiente propiedad"
   ]
  },
  {
   "cell_type": "markdown",
   "metadata": {},
   "source": [
    "$$\\vec{v} + (-\\vec{v}) = 0$$"
   ]
  },
  {
   "cell_type": "code",
   "execution_count": 12,
   "metadata": {},
   "outputs": [],
   "source": [
    "def inversa(a,b): #Calculamos la inversa de un numero complejo\n",
    "    # inversa del # real\n",
    "    b, a = conjugadoC(b, a)\n",
    "    # inversa de # imaginario\n",
    "    a, b = conjugadoC(a, b)\n",
    "    return (a, b)\n",
    "\n",
    "def inversaV(V): #Calculamos la inversa de cada componente\n",
    "    res = [] # Contenedor de la respuesta\n",
    "    for v in range(len(V)):\n",
    "        a = V[v][0] #Real\n",
    "        b = V[v][1] #Imaginario\n",
    "        res.append(inversa(a,b))\n",
    "    return res"
   ]
  },
  {
   "cell_type": "markdown",
   "metadata": {},
   "source": [
    "# Multiplicación escalar\n",
    "Para calcular el producto de un **vector complejo** por una **escalar**. Multiplicamos la escalar por cada componente del vector"
   ]
  },
  {
   "cell_type": "markdown",
   "metadata": {},
   "source": [
    "$$ r*\\vec{v} = r * \\begin{pmatrix} a+bi \\\\ c+di \\end{pmatrix} = \\begin{pmatrix} r*(a+bi) \\\\ r*(c+di) \\end{pmatrix} = \\begin{pmatrix} ra + rbi \\\\ rc + rdi \\end{pmatrix}$$"
   ]
  },
  {
   "cell_type": "markdown",
   "metadata": {},
   "source": [
    "Donde **r** es un ℂ."
   ]
  },
  {
   "cell_type": "code",
   "execution_count": 13,
   "metadata": {},
   "outputs": [],
   "source": [
    "def productoCV(r,V):\n",
    "    res = []  # Contenedor de la respuesta\n",
    "    for v in range(len(V)):\n",
    "        res.append(productoC(r[0],r[1],V[v][0],V[v][1]))\n",
    "    return res"
   ]
  },
  {
   "cell_type": "markdown",
   "metadata": {},
   "source": [
    "# Norma\n",
    "Para calcular la norma de un **vector complejo**. Obtenemos la raiz de la suma de sus componentes tanto reales como imaginarias, elevadas al cuadrado."
   ]
  },
  {
   "cell_type": "code",
   "execution_count": 14,
   "metadata": {},
   "outputs": [],
   "source": [
    "def normaV(V):\n",
    "    suma = 0\n",
    "    for v in range(len(V)):\n",
    "        suma+= (V[v][0])**2 #Real\n",
    "        suma+= (V[v][1])**2 #Imaginario\n",
    "\n",
    "    res = math.sqrt(suma)\n",
    "    return res"
   ]
  },
  {
   "cell_type": "markdown",
   "metadata": {},
   "source": [
    "# Distancia\n",
    "Para calcular la distancia entre dos **vectores complejos**. Obtenemos la raiz de la suma, de la diferencia de  sus componentes reales e imaginarias, elevadas al cuadrado."
   ]
  },
  {
   "cell_type": "code",
   "execution_count": 15,
   "metadata": {},
   "outputs": [],
   "source": [
    "def distanciaV(V,V2):\n",
    "    a, b = 0, 0  #inicialzamos suma de las partes real e imaginaria de un complejo\n",
    "\n",
    "    if len(V)!= len(V2):\n",
    "        raise ValueError('V y V2 deben tener el mismo tamano')\n",
    "    else:\n",
    "        for fil in range(len(V)):\n",
    "            a+= (V[fil][0] - V2[fil][0])**2     #a parte real\n",
    "            b+=  (V[fil][1] - V2[fil][1])**2    #b parte imaginaria\n",
    "        res = math.sqrt(a+b)\n",
    "    return res"
   ]
  },
  {
   "cell_type": "markdown",
   "metadata": {},
   "source": [
    "# Producto Interno\n",
    "Para calcular el producto interno entre dos **vectores complejos**. Obtenemos el producto del conjugado del primer vector por el segundo vector."
   ]
  },
  {
   "cell_type": "code",
   "execution_count": 16,
   "metadata": {},
   "outputs": [],
   "source": [
    "def productoInternoVV(V,V2):\n",
    "    if len(V) != len(V2):\n",
    "        raise ValueError('V y V2 deben tener la misma dimension')\n",
    "    else:\n",
    "        a, b = 0, 0\n",
    "        for fil in range(len(V2)):\n",
    "            cV = conjugadoC(V[fil][0],V[fil][1]) #Conjugado del primer Vector\n",
    "            res = productoC(cV[0],cV[1],V2[fil][0],V2[fil][1])   #Producto del primer y segundo Vector\n",
    "            a+= res[0]  #a parte real\n",
    "            b+= res[1]  #b parte imaginaria\n",
    "        return (a, b)"
   ]
  },
  {
   "cell_type": "markdown",
   "metadata": {},
   "source": [
    "# Operaciones con Matrices ℂ\n",
    "\n",
    "Las operaciones que podemos realizar con **matrices complejas** son las siguientes:\n",
    "\n",
    "Tomamos dos **matrices** de la siguiente forma:"
   ]
  },
  {
   "cell_type": "markdown",
   "metadata": {},
   "source": [
    "$$ M = \\begin{pmatrix} a & b \\\\ c & d \\end{pmatrix} \\qquad M1 = \\begin{pmatrix} a_0 & b_0 \\\\ c_0 & d_0 \\end{pmatrix}$$"
   ]
  },
  {
   "cell_type": "markdown",
   "metadata": {},
   "source": [
    "Donde, $M$ y $M1$ son matrices. Y sus componentes como\n"
   ]
  },
  {
   "cell_type": "markdown",
   "metadata": {},
   "source": [
    "$$z = c_n + wi$$"
   ]
  },
  {
   "cell_type": "markdown",
   "metadata": {},
   "source": [
    "Donde $z$ es un **numero complejo** ∈ ℂ, con $c_n$ ∈ ℝ, como parte real y $w$ ∈ ℝ, como parte imaginaria."
   ]
  },
  {
   "cell_type": "markdown",
   "metadata": {},
   "source": [
    "Utilizamos dos listas, **res** y **subres** para contener los resultados y formar la matriz."
   ]
  },
  {
   "cell_type": "markdown",
   "metadata": {},
   "source": [
    "# Suma de matrices\n",
    "Para sumar matrices simplemente sumamos cada **numero complejo** con su respectiva componente (**fila**, **columna**)."
   ]
  },
  {
   "cell_type": "markdown",
   "metadata": {},
   "source": [
    "$$\\begin{pmatrix} a & b \\\\ c & d \\end{pmatrix} + \\begin{pmatrix} a_0 & b_0 \\\\ c_0 & d_0 \\end{pmatrix} = \\begin{pmatrix} a + a_0 & b + b_0 \\\\ c + c_0 & d + d_0 \\end{pmatrix}$$"
   ]
  },
  {
   "cell_type": "markdown",
   "metadata": {},
   "source": [
    "Se hizo necesario crear una función que validara la compatibilidad entre las matrices"
   ]
  },
  {
   "cell_type": "code",
   "execution_count": 17,
   "metadata": {},
   "outputs": [],
   "source": [
    "def isValidMM(M,M1):\n",
    "    valid = True\n",
    "    if len(M) != len(M1):\n",
    "        valid = False\n",
    "    else:\n",
    "        for fil in range(len(M)):\n",
    "            if len(M[fil]) != len(M1[fil]):\n",
    "                valid = False\n",
    "    return valid\n",
    "\n",
    "def sumaM(M,M1): #Matrices deben tener el mismo tamano\n",
    "    res = [] # Contenedor de la respuesta\n",
    "    if isValidMM(M,M1) == False:\n",
    "        raise ValueError('M y M1 deben tener la misma dimension')\n",
    "    else:\n",
    "        for fil in range(len(M)):\n",
    "            subres = [] #Sub contenedor\n",
    "            for col in range (len(M[0])):\n",
    "                subres.append(sumaC(M[fil][col][0], M[fil][col][1], M1[fil][col][0], M1[fil][col][1]))\n",
    "            res.append(subres)\n",
    "    return res"
   ]
  },
  {
   "cell_type": "markdown",
   "metadata": {},
   "source": [
    "# Inversa de matrices\n",
    "Para hallar la **inversa**, la matriz debe ser **cuadrada**, cambiamos el signo de la parte $real$ e $imaginaria$ de cada componente. Y si el determinante de la matriz principal es **cero**, la inversa $no$ existe."
   ]
  },
  {
   "cell_type": "markdown",
   "metadata": {},
   "source": [
    "Se hizo necesario crear una función que me sacara la inversa de cada complejo."
   ]
  },
  {
   "cell_type": "code",
   "execution_count": 18,
   "metadata": {},
   "outputs": [],
   "source": [
    "def inversa(a,b):\n",
    "    # inversa del # real\n",
    "    b, a = conjugadoC(b, a)\n",
    "    # inversa de # imaginario\n",
    "    a, b = conjugadoC(a, b)\n",
    "    return (a, b)\n",
    "\n",
    "def inversaM(M):\n",
    "    for fil in range(len(M)):\n",
    "        subres = [] #Sub contenedor\n",
    "        for col in range(len(M[0])):\n",
    "            subres.append(inversa(M[fil][col][0], M[fil][col][1]))\n",
    "        res.append(subres)\n",
    "    return res"
   ]
  },
  {
   "cell_type": "markdown",
   "metadata": {},
   "source": [
    "# Multiplicación escalar de matrices\n",
    "Para calcular el producto de una **matriz compleja** por una **escalar**. Multiplicamos la escalar por cada componente de la matriz"
   ]
  },
  {
   "cell_type": "markdown",
   "metadata": {},
   "source": [
    "$$ r * \\begin{pmatrix} a & b \\\\ c & d \\end{pmatrix} = \\begin{pmatrix} r*a & r*b \\\\ r*c & r*d \\end{pmatrix}$$"
   ]
  },
  {
   "cell_type": "markdown",
   "metadata": {},
   "source": [
    "Donde\n",
    "- **r** puede ser un ℝ o ℂ.\n",
    "- $a$, $b$, $c$, $d$ ∈ ℂ."
   ]
  },
  {
   "cell_type": "code",
   "execution_count": 19,
   "metadata": {},
   "outputs": [],
   "source": [
    "def productoCM(c, M):\n",
    "    res = []  # Contenedor de la respuesta\n",
    "    for fil in range(len(M)):\n",
    "        subres = []  # Sub contenedor\n",
    "        for col in range(len(M[0])):\n",
    "            subres.append(productoC(c[0], c[1], M[fil][col][0], M[fil][col][1]))\n",
    "        res.append(subres)\n",
    "    return res"
   ]
  },
  {
   "cell_type": "markdown",
   "metadata": {},
   "source": [
    "# Traspuesta\n",
    "La matriz traspuesta de una **matriz compleja** $M$ se denota por $M^T$. Se obtiene cambiando sus filas por columnas (o viceversa)"
   ]
  },
  {
   "cell_type": "markdown",
   "metadata": {},
   "source": [
    "$$ M = \\begin{pmatrix} a & b \\\\ c & d \\end{pmatrix} \\qquad M^T = \\begin{pmatrix} a & c \\\\ b & d \\end{pmatrix}$$"
   ]
  },
  {
   "cell_type": "markdown",
   "metadata": {},
   "source": [
    "Donde, $a$, $b$, $c$, $d$ ∈ ℂ."
   ]
  },
  {
   "cell_type": "code",
   "execution_count": 20,
   "metadata": {},
   "outputs": [],
   "source": [
    "def traspuestaM(M):\n",
    "    res = []  # Contenedor de la respuesta\n",
    "    for i in range(len(M[0])):\n",
    "        subres = []\n",
    "        for j in range(len(M)):\n",
    "            subres.append(M[j][i])\n",
    "        res.append(subres)\n",
    "    return  res"
   ]
  },
  {
   "cell_type": "markdown",
   "metadata": {},
   "source": [
    "# Conjugada\n",
    "La matriz Conjugada de una **matriz compleja** $M$ se denota por $\\bar M$. Se obtiene cambiando de signo de la parte imaginaria de cada componente; es decir, sustituyendo cada componente por su conjugado. **(Veáse Conjugada para complejos)**\n"
   ]
  },
  {
   "cell_type": "code",
   "execution_count": 21,
   "metadata": {},
   "outputs": [],
   "source": [
    "def conjugadaM(M):\n",
    "    res = []  # Contenedor de la respuesta\n",
    "    for fil in range(len(M)):\n",
    "        subres = []\n",
    "        for col in range(len(M[0])):\n",
    "            subres.append(conjugadoC(M[fil][col][0], M[fil][col][1]))\n",
    "        res.append(subres)\n",
    "    return  res"
   ]
  },
  {
   "cell_type": "markdown",
   "metadata": {},
   "source": [
    "# Adjunta o Daga\n",
    "La matriz Adjunta o Daga de una **matriz compleja** $M$ se denota por $M^\\dagger $. Se obtiene mediante la obtención de su transpuesta y después de su conjugada compleja. **(Veáse Conjugada y Traspuesta de matrices para complejos)**\n"
   ]
  },
  {
   "cell_type": "code",
   "execution_count": 22,
   "metadata": {},
   "outputs": [],
   "source": [
    "def adjuntaM(M):\n",
    "    return traspuestaM(conjugadaM(M)) #Usamos la función de traspuesta y conjugada definidas"
   ]
  },
  {
   "cell_type": "markdown",
   "metadata": {},
   "source": [
    "# Acción de una matriz sobre un vector\n",
    "La Acción se denota por $*$. Se obtiene mediante el producto de vectores y la suma de sus componentes. **(Veáse Suma de Complejos)**\n"
   ]
  },
  {
   "cell_type": "markdown",
   "metadata": {},
   "source": [
    "Se hizo necesario crear una función que multiplicara los vectores y adicionalmente, otra que validara la compatibilidad entre la matriz y el vector. Y una última función que retornara la suma de los complejos del vector resultante, con ayuda de la suma de complejos simple."
   ]
  },
  {
   "cell_type": "code",
   "execution_count": 23,
   "metadata": {},
   "outputs": [],
   "source": [
    "def sumaCV(V):\n",
    "    suma = (0, 0)\n",
    "    for vc in V:\n",
    "        suma = sumaC(suma[0], suma[1], vc[0], vc[1])\n",
    "    return suma\n",
    "\n",
    "def isValidMV(M,V): #Asegura compatibilidad\n",
    "    valid = True\n",
    "    for fil in range(len(M)):\n",
    "        if len(M[fil]) != len(V):\n",
    "            valid = False\n",
    "    return valid\n",
    "\n",
    "def productoVV(V,V2): #producto de cada fila de la matriz con el vector V2\n",
    "    if len(V) != len(V2):\n",
    "        raise ValueError('V y V2 deben tener la misma dimension')\n",
    "    else:\n",
    "        res=[]\n",
    "        for fil in range(len(V2)):\n",
    "            res.append(productoC(V[fil][0],V[fil][1],V2[fil][0],V2[fil][1]))\n",
    "\n",
    "        return res\n",
    "    \n",
    "def accionMV(M,V):\n",
    "    if isValidMV(M,V) == False:\n",
    "        raise ValueError('Las columnas de M y V deben tener la misma dimension')\n",
    "    else:\n",
    "        res = []\n",
    "        for fil in range(len(M)):\n",
    "            for col in range(len(M[0])):\n",
    "                MV = productoVV(M[fil],V)\n",
    "                suma = sumaCV(MV)\n",
    "            res.append(suma)\n",
    "    return res"
   ]
  },
  {
   "cell_type": "markdown",
   "metadata": {},
   "source": [
    "# Producto entre matrices\n",
    "El producto de matrices se obtiene mediante el producto de la traspuesta de la primera matriz por la segunda matriz, con ayuda del productoVV, entre vectores. **(Veáse traspuesta de Complejos & producto entre vectores complejos)**\n"
   ]
  },
  {
   "cell_type": "markdown",
   "metadata": {},
   "source": [
    "Se hizo uso de la función isValidMM para asegurar compatibilidad entre las matrices y la traspuesta de una matriz"
   ]
  },
  {
   "cell_type": "code",
   "execution_count": 24,
   "metadata": {},
   "outputs": [],
   "source": [
    "def productoMM(M,M2):\n",
    "    res = []\n",
    "    if isValidMM(M,M2) == False:  #Asegura compatibilidad\n",
    "        raise ValueError('El número de columnas de M debe ser igual al número de filas de M2')\n",
    "    else:\n",
    "        M2 = traspuestaM(M2) #Traspuesta de la 1ra matriz\n",
    "        for fil in range(len(M)):\n",
    "            subres = []\n",
    "            for fil2 in range(len(M2)):\n",
    "                V = productoVV(M[fil2],M2[fil])\n",
    "                subres.append(sumaCV(V))\n",
    "            res.append(subres)\n",
    "        res = traspuestaM(res)\n",
    "    return res"
   ]
  },
  {
   "cell_type": "markdown",
   "metadata": {},
   "source": [
    "# Es Unitaria\n",
    "Para saber si una matriz es unitaria, comprobamos si el producto entre la adjunta de la matriz y la matriz original es igual a la matriz identidad. **(Veáse adjunta de matrices complejas & producto entre matrices)**\n"
   ]
  },
  {
   "cell_type": "markdown",
   "metadata": {},
   "source": [
    "Se hizo uso del término $valido$ para retornar True o False, según sea el caso."
   ]
  },
  {
   "cell_type": "code",
   "execution_count": 25,
   "metadata": {},
   "outputs": [],
   "source": [
    "def isUnitaria(M):\n",
    "    valido = True\n",
    "    res = productoMM(M,adjuntaM(M))  #Producto entre matrices\n",
    "    for fil in range(len(res)):\n",
    "        for col in range(len(res[0])):\n",
    "            if fil == col and valido == True:\n",
    "                if res[fil][fil] != (1,0):\n",
    "                    valido = False\n",
    "            else:\n",
    "                if valido == True:\n",
    "                    if res[fil][col] != (0, 0):\n",
    "                        valido = False\n",
    "    return valido   #True, si es Unitaria"
   ]
  },
  {
   "cell_type": "markdown",
   "metadata": {},
   "source": [
    "# Es Hermitiana\n",
    "Para saber si una matriz es hermitiana, comprobamos si la adjunta de la matriz es igual a la matriz original. **(Veáse adjunta de matrices complejas)**\n"
   ]
  },
  {
   "cell_type": "markdown",
   "metadata": {},
   "source": [
    "Se hizo uso del término $valido$ para retornar True o False, según sea el caso."
   ]
  },
  {
   "cell_type": "code",
   "execution_count": 26,
   "metadata": {},
   "outputs": [],
   "source": [
    "def isHermitiana(M):\n",
    "    valido = True\n",
    "    res = adjuntaM(M)   #Adjunta de la matriz\n",
    "    for fil in range(len(M)):\n",
    "        for col in range(len(M[0])):\n",
    "            if res[fil][col] != M[fil][col] and valido == True:\n",
    "                    valido = False\n",
    "    return valido #True, si es Hermitiana"
   ]
  },
  {
   "cell_type": "markdown",
   "metadata": {},
   "source": [
    "Fuentes:\n",
    "    - https://relopezbriega.github.io/blog/2015/10/12/numeros-complejos-con-python/\n",
    "    - https://www.problemasyecuaciones.com/complejos/numeros-complejos-modulo-argumento-angulo-propiedades.html"
   ]
  }
 ],
 "metadata": {
  "kernelspec": {
   "display_name": "Python 3",
   "language": "python",
   "name": "python3"
  },
  "language_info": {
   "codemirror_mode": {
    "name": "ipython",
    "version": 3
   },
   "file_extension": ".py",
   "mimetype": "text/x-python",
   "name": "python",
   "nbconvert_exporter": "python",
   "pygments_lexer": "ipython3",
   "version": "3.7.3"
  }
 },
 "nbformat": 4,
 "nbformat_minor": 2
}
