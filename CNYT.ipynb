{
 "cells": [
  {
   "cell_type": "markdown",
   "metadata": {},
   "source": [
    "# Librería Computación Cuántica: Números Complejos\n",
    "\n",
    "Calculadora de Números Complejos\n"
   ]
  },
  {
   "cell_type": "markdown",
   "metadata": {},
   "source": [
    "Cuando los números $imaginarios$ se combinan con los números $reales$ obtenemos lo que se conoce como $numeros$ $complejos$; de esta forma, los números complejos vienen a completar a los números reales y nos permiten realizar todo tipo de $operaciones$ $algebraicas$."
   ]
  },
  {
   "cell_type": "markdown",
   "metadata": {},
   "source": [
    "# Operaciones con  ℂ\n",
    "\n",
    "Las operaciones que podemos realizar con los $numeros$ $complejos$ son las siguientes:\n",
    "\n",
    "Tomamos dos $numeros$ $complejos$ de la siguiente forma:"
   ]
  },
  {
   "cell_type": "markdown",
   "metadata": {},
   "source": [
    "$$z = a + bi$$"
   ]
  },
  {
   "cell_type": "markdown",
   "metadata": {},
   "source": [
    "$$w = c + di$$"
   ]
  },
  {
   "cell_type": "markdown",
   "metadata": {},
   "source": [
    "Donde\n",
    "- En el primer $numero$ $complejo$ $z$, tenemos $a$ ∈ ℝ  y  $b$ ∈ ℂ. \n",
    "- Y el en segundo $w$, tenemos $c$ ∈ ℝ y  $d$ ∈ ℂ"
   ]
  },
  {
   "cell_type": "code",
   "execution_count": 1,
   "metadata": {},
   "outputs": [],
   "source": [
    "#Utilizamos una librería para realizar operaciones como (obtener raiz y usar funciones trigonométricas)\n",
    "#Adicionalmente, denotamos dos variables, gradosPC & gradosCP\n",
    "import math\n",
    "\n",
    "gradosPC = math.pi / 180 #Conversión de grados a radianes\n",
    "gradosCP = 180 / math.pi  # Conversión de radianes a grados"
   ]
  },
  {
   "cell_type": "markdown",
   "metadata": {},
   "source": [
    "# Suma\n",
    "Para sumar dos $números$ $complejos$ simplemente sumamos cada elemento en forma separada."
   ]
  },
  {
   "cell_type": "markdown",
   "metadata": {},
   "source": [
    "$$(a+bi)+(c+di)=(a+c)+(b+d)i$$"
   ]
  },
  {
   "cell_type": "markdown",
   "metadata": {},
   "source": [
    "Así, por ejemplo"
   ]
  },
  {
   "cell_type": "markdown",
   "metadata": {},
   "source": [
    "$$(2+2i)+(1+5i)=3+7i$$"
   ]
  },
  {
   "cell_type": "code",
   "execution_count": 2,
   "metadata": {},
   "outputs": [],
   "source": [
    "def sumaC(a,b,c,d):\n",
    "    z1 = a + c\n",
    "    z2 = b + d\n",
    "    return z1, z2  #Retorna z1 como real y z2 como imaginario"
   ]
  },
  {
   "cell_type": "markdown",
   "metadata": {},
   "source": [
    "# Resta\n",
    "\n",
    "La resta de dos $números$ $complejos$, funciona de forma similar a la suma."
   ]
  },
  {
   "cell_type": "markdown",
   "metadata": {},
   "source": [
    "$$(a+bi)-(c+di)=(a-c)+(b-d)i$$"
   ]
  },
  {
   "cell_type": "markdown",
   "metadata": {},
   "source": [
    "Así, por ejemplo"
   ]
  },
  {
   "cell_type": "markdown",
   "metadata": {},
   "source": [
    "$$(2+2i)-(1+5i)=1-3i$$"
   ]
  },
  {
   "cell_type": "code",
   "execution_count": 3,
   "metadata": {},
   "outputs": [],
   "source": [
    "def restaC(a,b,c,d):\n",
    "    z1 = a - c\n",
    "    z2 = b - d\n",
    "    return z1, z2  #Retorna z1 como real y z2 como imaginario"
   ]
  },
  {
   "cell_type": "markdown",
   "metadata": {},
   "source": [
    "# Producto\n",
    "\n",
    "Para multiplicar dos  $números$ $complejos$, debemos realizar su $multiplicación$ $binomial$. Sin embargo, para fines prácticos empleamos la siguiente fórmula:"
   ]
  },
  {
   "cell_type": "markdown",
   "metadata": {},
   "source": [
    "$$(a+bi)(c+di)=(ac-bd)+(ad+bc)i$$"
   ]
  },
  {
   "cell_type": "markdown",
   "metadata": {},
   "source": [
    "Así, por ejemplo"
   ]
  },
  {
   "cell_type": "markdown",
   "metadata": {},
   "source": [
    "$$(3+2i)(2+6i)=(3x2-2x6)+(3x6+2x2)i= -6+22i$$"
   ]
  },
  {
   "cell_type": "code",
   "execution_count": 4,
   "metadata": {},
   "outputs": [],
   "source": [
    "def productoC(a,b,c,d):\n",
    "    z1 = (a*c - b*d)\n",
    "    z2 = (a*d + b*c)\n",
    "    return z1, z2  #Retorna z1 como real y z2 como imaginario"
   ]
  },
  {
   "attachments": {},
   "cell_type": "markdown",
   "metadata": {},
   "source": [
    "# División\n",
    "Para dividir dos $números$ $complejos$, debemos utilizar el $conjugado$; ya que para realizar la división debemos multiplicar tanto el divisor como el dividendo por el conjugado del divisor. Sin embargo, para fines prácticos empleamos la siguiente fórmula"
   ]
  },
  {
   "cell_type": "markdown",
   "metadata": {},
   "source": [
    "$$\\frac{(a+bi)}{(c+di)} = \\frac{(ac+bd)+(bc-ad)}{(c^2+d^2)} = \\frac{(ac+bd)}{(c^2+d^2)}+\\frac{(bc-ad)i}{(c^2+d^2)}$$"
   ]
  },
  {
   "cell_type": "code",
   "execution_count": 5,
   "metadata": {},
   "outputs": [],
   "source": [
    "def divisionC(a,b,c,d):\n",
    "    if c == 0 and d == 0:  #Controla la división por 0\n",
    "        raise ValueError('Can not divide by zero!')\n",
    "    else:\n",
    "        z1 = (a * c + b * d)\n",
    "        z2 = (c * b - a * d)\n",
    "        z3 = (c ** 2 + d ** 2)\n",
    "    return z1/z3, z2/z3  #Retorna z1/z3 como real y z2/z3 como imaginario"
   ]
  },
  {
   "cell_type": "markdown",
   "metadata": {},
   "source": [
    "# Polar a Cartesiano\n",
    "\n",
    "Para pasar de la forma $polar$ a la $cartesiana$, utilizamos la forma trigonométrica $($calculando el $seno$ y el $coseno$ del ángulo$)$. \n",
    "\n",
    "Con el ángulo $θ$ en grados $(°)$.\n",
    "\n",
    "$$x = r  cos(\\theta)$$\n",
    "$$y = r  sen(\\theta)$$"
   ]
  },
  {
   "cell_type": "code",
   "execution_count": 6,
   "metadata": {},
   "outputs": [],
   "source": [
    "def polarCartesianoC(r, θ):\n",
    "    if r == 0: #Si r es 0, el resultado es z = 0 + 0i\n",
    "        return 0\n",
    "    else:\n",
    "        if θ == 0: #Si el θ es 0, la coordenada en y es 0\n",
    "            x = r * math.cos(θ * gradosPC) #Halla la coordenada en x\n",
    "            y = 0\n",
    "        else:\n",
    "            x = r * math.cos(θ * gradosPC)\n",
    "            y = r * math.sin(θ * gradosPC) #Halla la coordenada en y\n",
    "\n",
    "        return round(x,2), round(y,2)"
   ]
  },
  {
   "cell_type": "markdown",
   "metadata": {},
   "source": [
    "# Cartesiano a Polar\n",
    "\n",
    "Para pasar de la forma $cartesiana$ a la forma $polar$, utilizamos la forma trigonométrica $($calculando el módulo $r$ con el $teorema de pitagoras$ y el ángulo $θ$ con funcion $arco$ $tangente$$)$\n",
    "\n",
    "$$r = \\sqrt{x^2 + y^2}$$\n",
    "                                                \n",
    "$$\\theta = arctan\\frac{y}{x}$$  $$x!=0$$\n"
   ]
  },
  {
   "cell_type": "markdown",
   "metadata": {},
   "source": [
    "Con $θ$ en grados. Se tiene en cuenta el cuadrante en que se encuentra ubicado el vector usando $k$."
   ]
  },
  {
   "cell_type": "code",
   "execution_count": 7,
   "metadata": {},
   "outputs": [],
   "source": [
    "def cartesianoPolarC(x, y):\n",
    "    r = math.sqrt((x ** 2 + y ** 2)) #Halla el módulo\n",
    "\n",
    "    if x == 0 and y == 0:\n",
    "        θ = 0\n",
    "    elif x == 0 and y > 0:\n",
    "        θ = 90\n",
    "    elif x ==0 and y < 0:\n",
    "        θ = -90\n",
    "    else:\n",
    "        arcT = math.atan((y / x)) * gradosCP #Halla el ángulo sin tener en cuenta el cuadrante\n",
    "\n",
    "    #Determina k\n",
    "        if x > 0:\n",
    "            k = 0\n",
    "        else:\n",
    "            k = 1\n",
    "\n",
    "        θ = arcT + 180 * k #Halla el ángulo teniendo en cuenta el cuadrante\n",
    "    return round(r, 2),round(θ, 1)"
   ]
  },
  {
   "cell_type": "markdown",
   "metadata": {},
   "source": [
    "# Conjugado\n",
    "\n",
    "El conjugado de un $número$ $complejo$ se obtiene cambiando el $signo$ de su componente $imaginario$. Por lo tanto, el conjugado de un $número$ $complejo$ es"
   ]
  },
  {
   "cell_type": "markdown",
   "metadata": {},
   "source": [
    "$$\\bar z = a + bi$$"
   ]
  },
  {
   "cell_type": "markdown",
   "metadata": {},
   "source": [
    "Para expresar que estamos buscando el $conjugado$, escribimos una línea sobre el $número$ $complejo$. Así, por ejemplo"
   ]
  },
  {
   "cell_type": "markdown",
   "metadata": {},
   "source": [
    "$$\\bar 2+\\bar3i = 2 - 3i$$"
   ]
  },
  {
   "cell_type": "code",
   "execution_count": 8,
   "metadata": {},
   "outputs": [],
   "source": [
    "def conjugadoC(a,b):\n",
    "    if b < 0: b = abs(b)\n",
    "    else: b = -b\n",
    "    return a, b #Retorna a y el conjugado del imaginario (b)"
   ]
  },
  {
   "cell_type": "markdown",
   "metadata": {},
   "source": [
    "# Módulo\n",
    "\n",
    "Dado un $número$ $complejo$ en su $forma$ $cartesiana$"
   ]
  },
  {
   "cell_type": "markdown",
   "metadata": {},
   "source": [
    "$$ z = a + bi$$\n",
    "El módulo $z$ se define como"
   ]
  },
  {
   "cell_type": "markdown",
   "metadata": {},
   "source": [
    "$$|z| = \\sqrt{a^2 + b^2}$$"
   ]
  },
  {
   "cell_type": "code",
   "execution_count": 9,
   "metadata": {},
   "outputs": [],
   "source": [
    "def moduloC(a, b):\n",
    "    z = math.sqrt(a**2 + b**2)\n",
    "    return round(z, 2) #Retorna el módulo"
   ]
  },
  {
   "cell_type": "markdown",
   "metadata": {},
   "source": [
    "# Retornar la Fase de un ℂ"
   ]
  },
  {
   "cell_type": "markdown",
   "metadata": {},
   "source": [
    "Se define la fase o argumento como\n",
    "\n",
    "$$arg(z) = arctan\\frac{b}{a}$$\n",
    "$$a!=0$$"
   ]
  },
  {
   "cell_type": "markdown",
   "metadata": {},
   "source": [
    "Observa que por ejemplo, la función $arcotangente$ proporciona el mismo ángulo para $z = a-bi$ y para $w = -a+bi$. Sin embargo, $z$ y $w$ están en $cuadrantes$ distintos, así que su $fase$ es distinta.\n",
    "\n",
    "Para solucionar esto empleamos $k$:\n",
    "\n",
    "- Si el $complejo$ está en el segundo cuadrante $(a<0, b>0)$, hay que sumar $180°$ al ángulo obtenido.\n",
    "\n",
    "- Si el $complejo$ está en el tercer cuadrante $(a<0, b<0)$, hay que restar $180°$ al ángulo obtenido."
   ]
  },
  {
   "cell_type": "code",
   "execution_count": 10,
   "metadata": {},
   "outputs": [],
   "source": [
    "def faseC(x, y):\n",
    "    if x == 0 and y ==0: #Si x, y son 0, la fase es 0°\n",
    "        θ = 0\n",
    "    elif x == 0 and y > 0: #Si x es 0 y y es mayor que 0, la fase es 90°\n",
    "        θ = 90\n",
    "    elif x ==0 and y < 0:  #Si x es 0 y y es menor que 0, la fase es negativa, -90°\n",
    "        θ = -90\n",
    "    else:\n",
    "        arcT = math.atan((y / x)) * gradosCP\n",
    "\n",
    "        # Determina k\n",
    "        if x > 0:\n",
    "            k = 0\n",
    "        else:\n",
    "            k = 1\n",
    "\n",
    "        θ = arcT + 180 * k  #Calcula la fase\n",
    "    return θ"
   ]
  },
  {
   "cell_type": "markdown",
   "metadata": {},
   "source": [
    "Fuentes:\n",
    "    - https://relopezbriega.github.io/blog/2015/10/12/numeros-complejos-con-python/\n",
    "    - https://www.problemasyecuaciones.com/complejos/numeros-complejos-modulo-argumento-angulo-propiedades.html"
   ]
  }
 ],
 "metadata": {
  "kernelspec": {
   "display_name": "Python 3",
   "language": "python",
   "name": "python3"
  },
  "language_info": {
   "codemirror_mode": {
    "name": "ipython",
    "version": 3
   },
   "file_extension": ".py",
   "mimetype": "text/x-python",
   "name": "python",
   "nbconvert_exporter": "python",
   "pygments_lexer": "ipython3",
   "version": "3.7.3"
  }
 },
 "nbformat": 4,
 "nbformat_minor": 2
}
