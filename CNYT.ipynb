{
 "cells": [
  {
   "cell_type": "markdown",
   "metadata": {},
   "source": [
    "# Librería Computación Cuántica: Números Complejos\n",
    "\n",
    "Calculadora de Números Complejos\n"
   ]
  },
  {
   "cell_type": "markdown",
   "metadata": {},
   "source": [
    "Cuando los números **imaginarios** se combinan con los números **reales** obtenemos lo que se conoce como **numeros complejos**; de esta forma, los números complejos vienen a completar a los números reales y nos permiten realizar todo tipo de **operaciones algebraicas**."
   ]
  },
  {
   "cell_type": "markdown",
   "metadata": {},
   "source": [
    "# Operaciones con  ℂ\n",
    "\n",
    "Las operaciones que podemos realizar con **numeros complejos** son las siguientes:\n",
    "\n",
    "Tomamos dos **numeros complejos** de la siguiente forma:"
   ]
  },
  {
   "cell_type": "markdown",
   "metadata": {},
   "source": [
    "$$z = a + bi$$"
   ]
  },
  {
   "cell_type": "markdown",
   "metadata": {},
   "source": [
    "$$w = c + di$$"
   ]
  },
  {
   "cell_type": "markdown",
   "metadata": {},
   "source": [
    "Donde\n",
    "- En el primer **numero complejo** $z$, tenemos $a$ ∈ ℝ  y  $b$ ∈ ℂ. \n",
    "- Y el en segundo $w$, tenemos $c$ ∈ ℝ y  $d$ ∈ ℂ"
   ]
  },
  {
   "cell_type": "markdown",
   "metadata": {},
   "source": [
    "Utilizamos la librería math para realizar operaciones como (obtener raiz y usar funciones trigonométricas). Adicionalmente, denotamos dos variables, **gradosPC & gradosCP**"
   ]
  },
  {
   "cell_type": "code",
   "execution_count": 1,
   "metadata": {},
   "outputs": [],
   "source": [
    "import math\n",
    "\n",
    "gradosPC = math.pi / 180 #Conversión de grados a radianes\n",
    "gradosCP = 180 / math.pi  # Conversión de radianes a grados"
   ]
  },
  {
   "cell_type": "markdown",
   "metadata": {},
   "source": [
    "# Suma\n",
    "Para sumar dos **numeros complejos** simplemente sumamos cada elemento en forma separada."
   ]
  },
  {
   "cell_type": "markdown",
   "metadata": {},
   "source": [
    "$$(a+bi)+(c+di)=(a+c)+(b+d)i$$"
   ]
  },
  {
   "cell_type": "markdown",
   "metadata": {},
   "source": [
    "Así, por ejemplo"
   ]
  },
  {
   "cell_type": "markdown",
   "metadata": {},
   "source": [
    "$$(2+2i)+(1+5i)=3+7i$$"
   ]
  },
  {
   "cell_type": "code",
   "execution_count": 2,
   "metadata": {},
   "outputs": [],
   "source": [
    "def sumaC(a,b,c,d):\n",
    "    z1 = a + c\n",
    "    z2 = b + d\n",
    "    return z1, z2  #Retorna z1 como real y z2 como imaginario"
   ]
  },
  {
   "cell_type": "markdown",
   "metadata": {},
   "source": [
    "# Resta\n",
    "\n",
    "La resta de dos **numeros complejos**, funciona de forma similar a la suma."
   ]
  },
  {
   "cell_type": "markdown",
   "metadata": {},
   "source": [
    "$$(a+bi)-(c+di)=(a-c)+(b-d)i$$"
   ]
  },
  {
   "cell_type": "markdown",
   "metadata": {},
   "source": [
    "Así, por ejemplo"
   ]
  },
  {
   "cell_type": "markdown",
   "metadata": {},
   "source": [
    "$$(2+2i)-(1+5i)=1-3i$$"
   ]
  },
  {
   "cell_type": "code",
   "execution_count": 3,
   "metadata": {},
   "outputs": [],
   "source": [
    "def restaC(a,b,c,d):\n",
    "    z1 = a - c\n",
    "    z2 = b - d\n",
    "    return z1, z2  #Retorna z1 como real y z2 como imaginario"
   ]
  },
  {
   "cell_type": "markdown",
   "metadata": {},
   "source": [
    "# Producto\n",
    "\n",
    "Para multiplicar dos **numeros complejos**, debemos realizar su $multiplicacion$ $binomial$. Sin embargo, para fines prácticos empleamos la siguiente fórmula:"
   ]
  },
  {
   "cell_type": "markdown",
   "metadata": {},
   "source": [
    "$$(a+bi)(c+di)=(ac-bd)+(ad+bc)i$$"
   ]
  },
  {
   "cell_type": "markdown",
   "metadata": {},
   "source": [
    "Así, por ejemplo"
   ]
  },
  {
   "cell_type": "markdown",
   "metadata": {},
   "source": [
    "$$(3+2i)(2+6i)=(3x2-2x6)+(3x6+2x2)i= -6+22i$$"
   ]
  },
  {
   "cell_type": "code",
   "execution_count": 4,
   "metadata": {},
   "outputs": [],
   "source": [
    "def productoC(a,b,c,d):\n",
    "    z1 = (a*c - b*d)\n",
    "    z2 = (a*d + b*c)\n",
    "    return z1, z2  #Retorna z1 como real y z2 como imaginario"
   ]
  },
  {
   "cell_type": "markdown",
   "metadata": {},
   "source": [
    "# División\n",
    "Para dividir dos **numeros complejos**, debemos utilizar el **conjugado**; ya que para realizar la división debemos multiplicar tanto el divisor como el dividendo por el conjugado del divisor. Sin embargo, para fines prácticos empleamos la siguiente fórmula"
   ]
  },
  {
   "cell_type": "markdown",
   "metadata": {},
   "source": [
    "$$\\frac{(a+bi)}{(c+di)} = \\frac{(ac+bd)+(bc-ad)}{(c^2+d^2)} = \\frac{(ac+bd)}{(c^2+d^2)}+\\frac{(bc-ad)i}{(c^2+d^2)}$$"
   ]
  },
  {
   "cell_type": "code",
   "execution_count": 5,
   "metadata": {},
   "outputs": [],
   "source": [
    "def divisionC(a,b,c,d):\n",
    "    if c == 0 and d == 0:  #Controla la división por 0\n",
    "        raise ValueError('Can not divide by zero!')\n",
    "    else:\n",
    "        z1 = (a * c + b * d)\n",
    "        z2 = (c * b - a * d)\n",
    "        z3 = (c ** 2 + d ** 2)\n",
    "    return z1/z3, z2/z3  #Retorna z1/z3 como real y z2/z3 como imaginario"
   ]
  },
  {
   "cell_type": "markdown",
   "metadata": {},
   "source": [
    "# Polar a Cartesiano\n",
    "\n",
    "Para pasar de la forma **polar** a la **cartesiana**, utilizamos la forma trigonométrica $($calculando el $seno$ y el $coseno$ del ángulo$)$. \n",
    "\n",
    "Con el ángulo $\\theta$ en grados (°).\n",
    "\n",
    "$$x = rcos(\\theta)$$"
   ]
  },
  {
   "cell_type": "markdown",
   "metadata": {},
   "source": [
    "$$y = rsen(\\theta)$$\n"
   ]
  },
  {
   "cell_type": "code",
   "execution_count": 6,
   "metadata": {},
   "outputs": [],
   "source": [
    "def polarCartesianoC(r, θ):\n",
    "    if r == 0: #Si r es 0, el resultado es z = 0 + 0i\n",
    "        return 0\n",
    "    else:\n",
    "        if θ == 0: #Si el θ es 0, la coordenada en y es 0\n",
    "            x = r * math.cos(θ * gradosPC) #Halla la coordenada en x\n",
    "            y = 0\n",
    "        else:\n",
    "            x = r * math.cos(θ * gradosPC)\n",
    "            y = r * math.sin(θ * gradosPC) #Halla la coordenada en y\n",
    "        return round(x,2), round(y,2)"
   ]
  },
  {
   "cell_type": "markdown",
   "metadata": {},
   "source": [
    "# Cartesiano a Polar\n",
    "\n",
    "Para pasar de la forma **cartesiana** a la forma **polar**, utilizamos la forma trigonométrica $($calculando el módulo $r$ con el $teorema$ $de$ $pitagoras$ y el ángulo $\\theta$ con funcion $arco$ $tangente$)\n"
   ]
  },
  {
   "cell_type": "markdown",
   "metadata": {},
   "source": [
    "$$r = \\sqrt{x^2 + y^2}$$\n",
    "                                                \n",
    "$$\\theta = arctan\\frac{y}{x}$$  $$x!=0$$"
   ]
  },
  {
   "cell_type": "markdown",
   "metadata": {},
   "source": [
    "Con $\\theta$ en grados. Se tiene en cuenta el cuadrante en que se encuentra ubicado el vector usando $k$."
   ]
  },
  {
   "cell_type": "code",
   "execution_count": 7,
   "metadata": {},
   "outputs": [],
   "source": [
    "def cartesianoPolarC(x, y):\n",
    "    r = math.sqrt((x ** 2 + y ** 2)) #Halla el módulo\n",
    "    if x == 0 and y == 0:\n",
    "        θ = 0\n",
    "    elif x == 0 and y > 0:\n",
    "        θ = 90\n",
    "    elif x ==0 and y < 0:\n",
    "        θ = -90\n",
    "    else:\n",
    "        arcT = math.atan((y / x)) * gradosCP #Halla el ángulo sin tener en cuenta el cuadrante\n",
    "    #Determina k\n",
    "        if x > 0:\n",
    "            k = 0\n",
    "        else:\n",
    "            k = 1\n",
    "        θ = arcT + 180 * k #Halla el ángulo teniendo en cuenta el cuadrante\n",
    "    return round(r, 2),round(θ, 1)"
   ]
  },
  {
   "cell_type": "markdown",
   "metadata": {},
   "source": [
    "# Conjugado\n",
    "\n",
    "El conjugado de un **numero complejo** se obtiene cambiando el $signo$ de su componente **imaginario**. Por lo tanto, el conjugado de un numero complejo es"
   ]
  },
  {
   "cell_type": "markdown",
   "metadata": {},
   "source": [
    "$$\\bar z = a + bi$$"
   ]
  },
  {
   "cell_type": "markdown",
   "metadata": {},
   "source": [
    "Para expresar que estamos buscando el **conjugado**, escribimos una línea sobre el **numero complejo**. Así, por ejemplo"
   ]
  },
  {
   "cell_type": "markdown",
   "metadata": {},
   "source": [
    "$$\\bar 2+\\bar3i = 2 - 3i$$"
   ]
  },
  {
   "cell_type": "code",
   "execution_count": 8,
   "metadata": {},
   "outputs": [],
   "source": [
    "def conjugadoC(a,b):\n",
    "    if b < 0: b = abs(b)\n",
    "    else: b = -b\n",
    "    return a, b #Retorna a y el conjugado del imaginario (b)"
   ]
  },
  {
   "cell_type": "markdown",
   "metadata": {},
   "source": [
    "# Módulo\n",
    "\n",
    "Dado un **numero complejo** en su **forma cartesiana**"
   ]
  },
  {
   "cell_type": "markdown",
   "metadata": {},
   "source": [
    "$$ z = a + bi$$\n",
    "El módulo $z$ se define como"
   ]
  },
  {
   "cell_type": "markdown",
   "metadata": {},
   "source": [
    "$$|z| = \\sqrt{a^2 + b^2}$$"
   ]
  },
  {
   "cell_type": "code",
   "execution_count": 9,
   "metadata": {},
   "outputs": [],
   "source": [
    "def moduloC(a, b):\n",
    "    z = math.sqrt(a**2 + b**2)\n",
    "    return round(z, 2) #Retorna el módulo"
   ]
  },
  {
   "cell_type": "markdown",
   "metadata": {},
   "source": [
    "# Retornar la Fase de un ℂ"
   ]
  },
  {
   "cell_type": "markdown",
   "metadata": {},
   "source": [
    "Se define la **fase** o **argumento** como\n",
    "\n",
    "$$arg(z) = arctan\\frac{b}{a}$$"
   ]
  },
  {
   "cell_type": "markdown",
   "metadata": {},
   "source": [
    "$$a!=0$$"
   ]
  },
  {
   "cell_type": "markdown",
   "metadata": {},
   "source": [
    "Observa que por ejemplo, la función $arcotangente$ proporciona el mismo ángulo para $z = a-bi$ y para $w = -a+bi$. Sin embargo, $z$ y $w$ están en **cuadrantes** distintos, así que su **fase** es distinta.\n",
    "\n",
    "Para solucionar esto empleamos $k$:\n",
    "\n",
    "- Si el **complejo** está en el segundo cuadrante $(a<0, b>0)$, hay que sumar $180$° al ángulo obtenido.\n",
    "\n",
    "- Si el **complejo** está en el tercer cuadrante $(a<0, b<0)$, hay que restar $180$° al ángulo obtenido."
   ]
  },
  {
   "cell_type": "code",
   "execution_count": 10,
   "metadata": {},
   "outputs": [],
   "source": [
    "def faseC(x, y):\n",
    "    if x == 0 and y ==0: #Si x, y son 0, la fase es 0°\n",
    "        θ = 0\n",
    "    elif x == 0 and y > 0: #Si x es 0 y y es mayor que 0, la fase es 90°\n",
    "        θ = 90\n",
    "    elif x ==0 and y < 0:  #Si x es 0 y y es menor que 0, la fase es negativa, -90°\n",
    "        θ = -90\n",
    "    else:\n",
    "        arcT = math.atan((y / x)) * gradosCP\n",
    "\n",
    "        # Determina k\n",
    "        if x > 0:\n",
    "            k = 0\n",
    "        else:\n",
    "            k = 1\n",
    "\n",
    "        θ = arcT + 180 * k  #Calcula la fase\n",
    "    return θ"
   ]
  },
  {
   "cell_type": "markdown",
   "metadata": {},
   "source": [
    "# Operaciones con  Vectores\n",
    "\n",
    "Las operaciones que podemos realizar con **vectores complejos** son las siguientes:\n",
    "\n",
    "Tomamos dos **vectores** de la siguiente forma:"
   ]
  },
  {
   "cell_type": "markdown",
   "metadata": {},
   "source": [
    "$$ \\vec{u} = \\begin{pmatrix} a+bi \\\\ c+di \\end{pmatrix} \\qquad \\vec{v} = \\begin{pmatrix} a_2+b_2i \\\\ c_2+d_2i \\end{pmatrix}$$"
   ]
  },
  {
   "cell_type": "markdown",
   "metadata": {},
   "source": [
    "Donde, $\\vec{u}$ y $\\vec{v}$ son vectores. Y sus componentes como\n"
   ]
  },
  {
   "cell_type": "markdown",
   "metadata": {},
   "source": [
    "$$z = a + bi$$"
   ]
  },
  {
   "cell_type": "markdown",
   "metadata": {},
   "source": [
    "Donde $z$ es un **numero complejo**,  $a$ ∈ ℝ  y  $b$ ∈ ℂ."
   ]
  },
  {
   "cell_type": "markdown",
   "metadata": {},
   "source": [
    "# Suma\n",
    "Para sumar vectores simplemente sumamos cada **numero complejo** con su respectiva componente."
   ]
  },
  {
   "cell_type": "markdown",
   "metadata": {},
   "source": [
    "$$\\begin{pmatrix} a+bi \\\\ c+di \\end{pmatrix} + \\begin{pmatrix} a_2+b_2i \\\\ c_2+d_2i \\end{pmatrix} = \\begin{pmatrix} (a + a_2) + (bi + b_2i) \\\\ (c + c_2) + (d + d_2i)\\end{pmatrix}$$"
   ]
  },
  {
   "cell_type": "code",
   "execution_count": 5,
   "metadata": {},
   "outputs": [],
   "source": [
    "def sumaV(u,v):\n",
    "    res = [] #Contenedor de la respuesta\n",
    "    if len(u) != len(v):\n",
    "        raise ValueError('A y B deben tener el mismo tamaño')\n",
    "    else:\n",
    "        for fil in range(len(u)): #Sumamos componente a componente\n",
    "           res.append(sumaC(u[fil][0],u[fil][1], v[fil][0], v[fil][1]))\n",
    "    return res"
   ]
  },
  {
   "cell_type": "markdown",
   "metadata": {},
   "source": [
    "# Inversa\n",
    "Para hallar la inversa de un vector, encontramos un vector que cumpla la siguiente propiedad"
   ]
  },
  {
   "cell_type": "markdown",
   "metadata": {},
   "source": [
    "$$\\vec{v} + (-\\vec{v}) = 0$$"
   ]
  },
  {
   "cell_type": "code",
   "execution_count": 4,
   "metadata": {},
   "outputs": [],
   "source": [
    "def inversa(a,b): #Calculamos la inversa de un numero complejo\n",
    "    # inversa del # real\n",
    "    b, a = conjugadoC(b, a)\n",
    "    # inversa de # imaginario\n",
    "    a, b = conjugadoC(a, b)\n",
    "    return (a, b)\n",
    "\n",
    "def inversaV(V): #Calculamos la inversa de cada componente\n",
    "    res = [] # Contenedor de la respuesta\n",
    "    for v in range(len(V)):\n",
    "        a = V[v][0] #Real\n",
    "        b = V[v][1] #Imaginario\n",
    "        res.append(inversa(a,b))\n",
    "    return res"
   ]
  },
  {
   "cell_type": "markdown",
   "metadata": {},
   "source": [
    "# Multiplicación escalar\n",
    "Para calcular el producto de un **vector complejo** por una **escalar**. Multiplicamos la escalar por cada componente del vector"
   ]
  },
  {
   "cell_type": "markdown",
   "metadata": {},
   "source": [
    "$$ r*\\vec{v} = r * \\begin{pmatrix} a+bi \\\\ c+di \\end{pmatrix} = \\begin{pmatrix} r*(a+bi) \\\\ r*(c+di) \\end{pmatrix} = \\begin{pmatrix} ra + rbi \\\\ rc + rdi \\end{pmatrix}$$"
   ]
  },
  {
   "cell_type": "markdown",
   "metadata": {},
   "source": [
    "Donde **r** puede ser un ℝ o ℂ."
   ]
  },
  {
   "cell_type": "code",
   "execution_count": 6,
   "metadata": {},
   "outputs": [],
   "source": [
    "def productoV(r,V):\n",
    "    res = []  # Contenedor de la respuesta\n",
    "    for v in range(len(V)):\n",
    "        res.append(productoC(r[0], r[1], V[v][0], V[v][1])) #Calculamos el producto\n",
    "    return res"
   ]
  },
  {
   "cell_type": "markdown",
   "metadata": {},
   "source": [
    "# Operaciones con  Matrices\n",
    "\n",
    "Las operaciones que podemos realizar con **matrices complejas** son las siguientes:\n",
    "\n",
    "Tomamos dos **matrices** de la siguiente forma:"
   ]
  },
  {
   "cell_type": "markdown",
   "metadata": {},
   "source": [
    "$$ A = \\begin{pmatrix} a_0+zi & a_2+zi \\\\ a_1+zi & a_3+zi \\end{pmatrix} \\qquad B = \\begin{pmatrix} b_0+zi & b_2+zi \\\\ b_1+zi & b_3+zi \\end{pmatrix}$$"
   ]
  },
  {
   "cell_type": "markdown",
   "metadata": {},
   "source": [
    "Donde, $A$ y $B$ son matrices. Y sus componentes como\n"
   ]
  },
  {
   "cell_type": "markdown",
   "metadata": {},
   "source": [
    "$$c = a_n + zi$$"
   ]
  },
  {
   "cell_type": "markdown",
   "metadata": {},
   "source": [
    "Donde $c$ es un **numero complejo**,  $a_n$ ∈ ℝ  y  $z$ ∈ ℂ."
   ]
  },
  {
   "cell_type": "markdown",
   "metadata": {},
   "source": [
    "# Suma\n",
    "Para sumar matrices simplemente sumamos cada **numero complejo** con su respectiva componente (**fila**, **columna**)."
   ]
  },
  {
   "cell_type": "markdown",
   "metadata": {},
   "source": [
    "$$\\begin{pmatrix} a_0+zi & a_2+zi \\\\ a_1+zi & a_3+zi \\end{pmatrix} + \\begin{pmatrix} b_0+zi & b_2+zi \\\\ b_1+zi & b_3+zi \\end{pmatrix} = \\begin{pmatrix} (a_0+zi) + (b_0+zi) & (a_2+zi) + (b_2+zi) \\\\ (a_1+zi) + (b_1+zi) & (a_3+zi) + ( b_3+zi) \\end{pmatrix}$$"
   ]
  },
  {
   "cell_type": "code",
   "execution_count": null,
   "metadata": {},
   "outputs": [],
   "source": [
    "def sumaM(A,B): #Matrices deben tener el mismo tamaño\n",
    "    res = [] # Contenedor de la respuesta\n",
    "    if len(A) != len(B) or len(A[0]) != len(B[0]):\n",
    "        raise ValueError('A y B deben tener la misma dimensión')\n",
    "    else:\n",
    "        for fil in range(len(A)):\n",
    "            subres = [] #Sub contenedor\n",
    "            for col in range (len(A[0])):\n",
    "                subres.append(sumaC(A[fil][col][0], A[fil][col][1], B[fil][col][0], B[fil][col][1]))\n",
    "            res.append(subres)\n",
    "    return res"
   ]
  },
  {
   "cell_type": "markdown",
   "metadata": {},
   "source": [
    "# Inversa\n",
    "Para hallar la **inversa**, la matriz debe ser **cuadrada**, cambiamos el signo de la parte $real$ e $imaginaria$ de cada componente. Y si el determinante de la matriz principal es **cero**, la inversa $no$ existe."
   ]
  },
  {
   "cell_type": "code",
   "execution_count": null,
   "metadata": {},
   "outputs": [],
   "source": [
    "def inversaM(M):\n",
    "    res = []  # Contenedor de la respuesta\n",
    "    if len(M) != len(M[0]):\n",
    "        raise ValueError('M debe ser una matriz cuadrada.')\n",
    "    else:\n",
    "        for fil in range(len(M)):\n",
    "            subres = [] #Sub contenedor\n",
    "            for col in range(len(M[0])):\n",
    "                subres.append(inversa(M[fil][col][0], M[fil][col][1]))\n",
    "            res.append(subres)\n",
    "    return res"
   ]
  },
  {
   "cell_type": "markdown",
   "metadata": {},
   "source": [
    "# Multiplicación escalar\n",
    "Para calcular el producto de una **matriz compleja** por una **escalar**. Multiplicamos la escalar por cada componente de la matriz"
   ]
  },
  {
   "cell_type": "markdown",
   "metadata": {},
   "source": [
    "$$ r * \\begin{pmatrix} a & b \\\\ c & d \\end{pmatrix}=\\begin{pmatrix} r*a & r*b \\\\ r*c & r*d \\end{pmatrix}$$"
   ]
  },
  {
   "cell_type": "markdown",
   "metadata": {},
   "source": [
    "Donde,\n",
    "- **r** puede ser un ℝ o ℂ.\n",
    "- a, b, c, d ∈ ℂ"
   ]
  },
  {
   "cell_type": "code",
   "execution_count": 7,
   "metadata": {},
   "outputs": [],
   "source": [
    "def productoM(c, M):\n",
    "    res = []  # Contenedor de la respuesta\n",
    "    for fil in range(len(M)):\n",
    "        subres = []  # Sub contenedor\n",
    "        for col in range(len(M[0])):\n",
    "            subres.append(productoC(c[0], c[1], M[fil][col][0], M[fil][col][1]))\n",
    "        res.append(subres)\n",
    "    return res"
   ]
  },
  {
   "cell_type": "markdown",
   "metadata": {},
   "source": [
    "Fuentes:\n",
    "    - https://relopezbriega.github.io/blog/2015/10/12/numeros-complejos-con-python/\n",
    "    - https://www.problemasyecuaciones.com/complejos/numeros-complejos-modulo-argumento-angulo-propiedades.html"
   ]
  },
  {
   "cell_type": "code",
   "execution_count": null,
   "metadata": {},
   "outputs": [],
   "source": []
  }
 ],
 "metadata": {
  "kernelspec": {
   "display_name": "Python 3",
   "language": "python",
   "name": "python3"
  },
  "language_info": {
   "codemirror_mode": {
    "name": "ipython",
    "version": 3
   },
   "file_extension": ".py",
   "mimetype": "text/x-python",
   "name": "python",
   "nbconvert_exporter": "python",
   "pygments_lexer": "ipython3",
   "version": "3.7.3"
  }
 },
 "nbformat": 4,
 "nbformat_minor": 2
}
