{
 "cells": [
  {
   "cell_type": "markdown",
   "metadata": {},
   "source": [
    "# Librería Computación cuántica: Numeros Complejos\n",
    "\n",
    "Calculadora de Numeros Complejos\n"
   ]
  },
  {
   "cell_type": "code",
   "execution_count": 1,
   "metadata": {},
   "outputs": [],
   "source": [
    "# Veremos con los siguientes numeros complejos cada una de las operaciones:\n",
    "a, b = -3, 1 #1er Numero Complejo\n",
    "c, d = 2, -4 #2do Numero Complejo"
   ]
  },
  {
   "cell_type": "markdown",
   "metadata": {},
   "source": [
    "# 1. Suma"
   ]
  },
  {
   "cell_type": "code",
   "execution_count": 2,
   "metadata": {},
   "outputs": [
    {
     "name": "stdout",
     "output_type": "stream",
     "text": [
      "(-1) + (-3)i\n"
     ]
    }
   ],
   "source": [
    "def suma(a,b):\n",
    "    s = a + b\n",
    "    return s\n",
    "print('('+str(suma(a,c))+')'+' + ('+str(suma(b,d))+')i')"
   ]
  },
  {
   "cell_type": "markdown",
   "metadata": {},
   "source": [
    "# 2. Resta"
   ]
  },
  {
   "cell_type": "code",
   "execution_count": 6,
   "metadata": {},
   "outputs": [
    {
     "name": "stdout",
     "output_type": "stream",
     "text": [
      "(-1) - (-3)i\n"
     ]
    }
   ],
   "source": [
    "def resta(a,b):\n",
    "    s = a - b\n",
    "    return s\n",
    "print('('+str(suma(a,c))+')'+' - ('+str(suma(b,d))+')i')"
   ]
  },
  {
   "cell_type": "markdown",
   "metadata": {},
   "source": [
    "# 3. Producto"
   ]
  },
  {
   "cell_type": "code",
   "execution_count": 11,
   "metadata": {},
   "outputs": [
    {
     "name": "stdout",
     "output_type": "stream",
     "text": [
      "(-2) x (14)i\n"
     ]
    }
   ],
   "source": [
    "def productoC(a,b,c,d):\n",
    "    z1 = (a*c - b*d)\n",
    "    z2 = (a*d + b*c)\n",
    "    return '('+str(z1)+')'+' x ('+str(z2)+')i'\n",
    "print(productoC(a,b,c,d))"
   ]
  },
  {
   "cell_type": "markdown",
   "metadata": {},
   "source": [
    "# 4. División"
   ]
  },
  {
   "cell_type": "code",
   "execution_count": 20,
   "metadata": {},
   "outputs": [
    {
     "name": "stdout",
     "output_type": "stream",
     "text": [
      "(-10/20) + (-10/20)i\n"
     ]
    }
   ],
   "source": [
    "def divisionC(a,b,c,d):\n",
    "    z1 = (a*c + b*d)\n",
    "    z2 = (c*b - a*d)\n",
    "    z3 = (c**2 + d**2)\n",
    "    return '('+str(int(z1))+'/'+str(z3)+') + ('+str(int(z2))+'/'+str(z3)+')i'\n",
    "print(divisionC(a,b,c,d))"
   ]
  },
  {
   "cell_type": "code",
   "execution_count": null,
   "metadata": {},
   "outputs": [],
   "source": []
  }
 ],
 "metadata": {
  "kernelspec": {
   "display_name": "Python 3",
   "language": "python",
   "name": "python3"
  },
  "language_info": {
   "codemirror_mode": {
    "name": "ipython",
    "version": 3
   },
   "file_extension": ".py",
   "mimetype": "text/x-python",
   "name": "python",
   "nbconvert_exporter": "python",
   "pygments_lexer": "ipython3",
   "version": "3.7.3"
  }
 },
 "nbformat": 4,
 "nbformat_minor": 2
}
